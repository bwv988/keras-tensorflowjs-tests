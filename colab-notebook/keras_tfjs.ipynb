{
  "nbformat": 4,
  "nbformat_minor": 0,
  "metadata": {
    "colab": {
      "name": "keras_tfjs.ipynb",
      "version": "0.3.2",
      "provenance": [],
      "toc_visible": true
    },
    "kernelspec": {
      "display_name": "Python 3",
      "language": "python",
      "name": "python3"
    }
  },
  "cells": [
    {
      "metadata": {
        "id": "2SP18m1v5WlJ",
        "colab_type": "text"
      },
      "cell_type": "markdown",
      "source": [
        "# Keras and TensorFlow.js Interoperability\n",
        "\n",
        "Ralph Schlosser, 17/12/2018, <http://warpbreaks.io>\n",
        "\n",
        "Git: https://github.com/bwv988/keras-tensorflowjs-tests/\n",
        "\n",
        "\n",
        "## Introduction\n",
        "With the release of TensorFlow.js earlier in 2018 (https://js.tensorflow.org/), it is now possible to train and run Machine Learning models directly in a web browser and NodeJS-based applications. TensorFlow.js implements much of TensorFlow's proven API and thus opens up interesting possibilities to augment web applications with Machine Learning capabilities.\n",
        "\n",
        "This short notebook demonstrates a very simple workflow:\n",
        "\n",
        "* Train a model using Keras and Python.\n",
        "* Save the trained model.\n",
        "* Load the finished model into TensorFlow.js / Javascript and make predictions.\n",
        "\n",
        "As always, a picture says more than a thousand words, so below is a very detailed and highly technical diagram of this workflow:\n",
        "\n",
        "![Workflow](https://github.com/bwv988/keras-tensorflowjs-tests/blob/master/assets/workflow.PNG?raw=1)\n",
        "\n",
        "To demonstrate the last part, we'll use a special cell in Google Colab to load and process Javascript.\n",
        "\n",
        "\n",
        "## Demo: Train offline, predict online\n",
        "Many real-world ML problems require complex neural network architectures, the training of which, while now feasible, wouldn't be very practical to do in a browser. This is especially valid for mobile applications.\n",
        "\n",
        "A far more common use case, however, would be to fetch a pre-trained model which was build e.g. on a GPU cluster in order to then make predictions. \n",
        "\n",
        "In the case of a neural networks, training the model entails establishing the weights, which is typically orders of magnitudes more expensive in terms of CPU compared to just applying the trained weights to make predictions, based on new data.\n",
        "\n",
        "## Part 1: Offline Model Training\n",
        "\n",
        "For this demonstration, I'll use the classical **Iris flower** dataset. The goal here is to predict the type (class) of flower based on four different measurements in cm taken from 150 flowers. The dataset is build into the `sklearn` package.\n",
        "\n",
        "### Data loading and preparation"
      ]
    },
    {
      "metadata": {
        "id": "cuPPKxaj5WlN",
        "colab_type": "code",
        "colab": {}
      },
      "cell_type": "code",
      "source": [
        "from sklearn import datasets\n",
        "from sklearn import preprocessing\n",
        "from keras.utils import to_categorical\n",
        "\n",
        "\n",
        "# Load and transform the data.\n",
        "iris = datasets.load_iris()\n",
        "iris_target_onehot = to_categorical(iris.target)\n",
        "X = preprocessing.scale(iris.data)\n",
        "Y = iris_target_onehot"
      ],
      "execution_count": 0,
      "outputs": []
    },
    {
      "metadata": {
        "id": "3moL9gBx5WlS",
        "colab_type": "text"
      },
      "cell_type": "markdown",
      "source": [
        "### Defining the model\n",
        "\n",
        "For this multi-class classification problem, we'll be setting up a simple feed-forward neural network. \n",
        "\n",
        "**Note**: In this very simple case it would be perfectly OK to define and train the model in the browser. But I wanted something that runs quickly and I wouldn't have to wait for an hour for the results to be complete. :)"
      ]
    },
    {
      "metadata": {
        "id": "Lqo3fMie5WlT",
        "colab_type": "code",
        "colab": {}
      },
      "cell_type": "code",
      "source": [
        "def build_iris_model(num_hidden_layers = 1, \n",
        "                     x_dim = 4, \n",
        "                     num_neurons = 64, \n",
        "                     my_optimizer = \"adam\"):\n",
        "    \"\"\"\n",
        "    This function returns a feed-forward neural network, as\n",
        "    defined in the parameters.\n",
        "    \"\"\"\n",
        "    model = Sequential()\n",
        "    model.add(Dense(num_neurons, \n",
        "                 input_dim = x_dim, \n",
        "                 activation = \"relu\"))\n",
        "    \n",
        "    # Add specified number of hidden layers.\n",
        "    for i in range(num_hidden_layers):        \n",
        "        model.add(Dense(num_neurons, \n",
        "                        activation = \"relu\"))\n",
        "    \n",
        "    model.add(Dense(3, activation = \"softmax\"))\n",
        "    \n",
        "    # Compile the model according to the selected optimizer function.\n",
        "    # Using categorical cross entropy because we are classifying.\n",
        "    model.compile(loss = \"categorical_crossentropy\", \n",
        "               optimizer = my_optimizer, \n",
        "               metrics = [\"accuracy\"])\n",
        "    return model"
      ],
      "execution_count": 0,
      "outputs": []
    },
    {
      "metadata": {
        "id": "KQ9siqc75WlX",
        "colab_type": "text"
      },
      "cell_type": "markdown",
      "source": [
        "### Training the model\n",
        "\n",
        "Next, we'll fit the model to the training data (60% of the data).\n",
        "\n",
        "**Note**: The data splitting isn't really necessary here, as I'm not doing any validation after.\n",
        "\n",
        "Just leaving it in for the inevitable copy-and-paste :)"
      ]
    },
    {
      "metadata": {
        "id": "_lIjPPPS5WlY",
        "colab_type": "code",
        "outputId": "964a3ded-9321-4b9c-c603-7efa214b13e3",
        "colab": {
          "base_uri": "https://localhost:8080/",
          "height": 34
        }
      },
      "cell_type": "code",
      "source": [
        "from sklearn.model_selection import train_test_split\n",
        "from keras.models import Sequential\n",
        "from keras.layers import Dense\n",
        "\n",
        "X_train, X_test, Y_train, Y_test = train_test_split(X, \n",
        "                                                    Y, \n",
        "                                                    test_size = 0.4, \n",
        "                                                    random_state = 0)\n",
        "\n",
        "# Train the model.\n",
        "model = build_iris_model()\n",
        "model.fit(X_train, \n",
        "          Y_train, \n",
        "          validation_split = 0.25, \n",
        "          epochs = 150, \n",
        "          batch_size = 10, \n",
        "          verbose = 0)"
      ],
      "execution_count": 0,
      "outputs": [
        {
          "output_type": "execute_result",
          "data": {
            "text/plain": [
              "<keras.callbacks.History at 0x7f344f46e7f0>"
            ]
          },
          "metadata": {
            "tags": []
          },
          "execution_count": 17
        }
      ]
    },
    {
      "metadata": {
        "id": "LPaAOCnq5Wlg",
        "colab_type": "text"
      },
      "cell_type": "markdown",
      "source": [
        "### Testing the model\n",
        "\n",
        "We can now convince ourselves that the model predicts well on the training data, as expected."
      ]
    },
    {
      "metadata": {
        "id": "CzbbdrY35Wli",
        "colab_type": "code",
        "outputId": "3d50d7c2-cfe8-4ce6-eaf0-3265e710b687",
        "colab": {
          "base_uri": "https://localhost:8080/",
          "height": 119
        }
      },
      "cell_type": "code",
      "source": [
        "import numpy as np\n",
        "\n",
        "class1_sample = np.reshape(X_train[0, :], (1, 4))\n",
        "print(\"Sample data for class 1: \" + str(class1_sample))\n",
        "class0_sample = np.reshape(X_train[50, :], (1, 4))\n",
        "print(\"Sample data for class 0: \" + str(class0_sample))\n",
        "\n",
        "\n",
        "print(\"\\n\\nThe first sample should yield class 1: \" + str(model.predict_classes(class1_sample)))\n",
        "print(\"The second sample should yield class 0: \" + str(model.predict_classes(class0_sample)))"
      ],
      "execution_count": 0,
      "outputs": [
        {
          "output_type": "stream",
          "text": [
            "Sample data for class 1: [[0.18982966 0.78880759 0.42173371 0.52740629]]\n",
            "Sample data for class 0: [[-1.02184904  0.32841405 -1.45390138 -1.3154443 ]]\n",
            "\n",
            "\n",
            "The first sample should yield class 1: [1]\n",
            "The second sample should yield class 0: [0]\n"
          ],
          "name": "stdout"
        }
      ]
    },
    {
      "metadata": {
        "id": "gSA3r2mW5Wln",
        "colab_type": "text"
      },
      "cell_type": "markdown",
      "source": [
        "### Saving the model\n",
        "\n",
        "So far so good, nothing particularly fancy happening yet. Now we need to save the model.\n",
        "\n",
        "Out of the box, Keras supports the HDF5 model format. However, for TensorFlow.js we need to convert into TensorFlow's Layers format. This can be achieved with a utility function within the `tensorflowjs` package.\n",
        "\n",
        "**Note** For the next line to work, the `tensorflowjs` package needs to be installed. The procedure depends on where you're running this notebook.\n",
        "\n",
        "* Anaconda / Google Collaboratory: `pip install tensorflowjs`\n",
        "* Kaggle: Add a custom package.\n"
      ]
    },
    {
      "metadata": {
        "id": "mU0Z8hOS5uNi",
        "colab_type": "code",
        "outputId": "1fa92d99-1399-4dff-b78f-cd2bda94a75f",
        "colab": {
          "base_uri": "https://localhost:8080/",
          "height": 785
        }
      },
      "cell_type": "code",
      "source": [
        "!pip install tensorflowjs"
      ],
      "execution_count": 0,
      "outputs": [
        {
          "output_type": "stream",
          "text": [
            "Collecting tensorflowjs\n",
            "  Downloading https://files.pythonhosted.org/packages/8c/d3/f534d1d042465e0e66a04b0fa31dc1f13cfea7d8340017ef4cd649b9c3a0/tensorflowjs-0.6.7-py3-none-any.whl\n",
            "Collecting tensorflow-hub==0.1.1 (from tensorflowjs)\n",
            "\u001b[?25l  Downloading https://files.pythonhosted.org/packages/5f/22/64f246ef80e64b1a13b2f463cefa44f397a51c49a303294f5f3d04ac39ac/tensorflow_hub-0.1.1-py2.py3-none-any.whl (52kB)\n",
            "\u001b[K    100% |████████████████████████████████| 61kB 4.6MB/s \n",
            "\u001b[?25hCollecting numpy==1.15.1 (from tensorflowjs)\n",
            "\u001b[?25l  Downloading https://files.pythonhosted.org/packages/fe/94/7049fed8373c52839c8cde619acaf2c9b83082b935e5aa8c0fa27a4a8bcc/numpy-1.15.1-cp36-cp36m-manylinux1_x86_64.whl (13.9MB)\n",
            "\u001b[K    100% |████████████████████████████████| 13.9MB 1.2MB/s \n",
            "\u001b[?25hRequirement already satisfied: tensorflow==1.12.0 in /usr/local/lib/python3.6/dist-packages (from tensorflowjs) (1.12.0)\n",
            "Requirement already satisfied: six==1.11.0 in /usr/local/lib/python3.6/dist-packages (from tensorflowjs) (1.11.0)\n",
            "Requirement already satisfied: h5py==2.8.0 in /usr/local/lib/python3.6/dist-packages (from tensorflowjs) (2.8.0)\n",
            "Collecting keras==2.2.2 (from tensorflowjs)\n",
            "\u001b[?25l  Downloading https://files.pythonhosted.org/packages/34/7d/b1dedde8af99bd82f20ed7e9697aac0597de3049b1f786aa2aac3b9bd4da/Keras-2.2.2-py2.py3-none-any.whl (299kB)\n",
            "\u001b[K    100% |████████████████████████████████| 307kB 23.4MB/s \n",
            "\u001b[?25hRequirement already satisfied: protobuf>=3.4.0 in /usr/local/lib/python3.6/dist-packages (from tensorflow-hub==0.1.1->tensorflowjs) (3.6.1)\n",
            "Requirement already satisfied: grpcio>=1.8.6 in /usr/local/lib/python3.6/dist-packages (from tensorflow==1.12.0->tensorflowjs) (1.15.0)\n",
            "Requirement already satisfied: keras-preprocessing>=1.0.5 in /usr/local/lib/python3.6/dist-packages (from tensorflow==1.12.0->tensorflowjs) (1.0.5)\n",
            "Requirement already satisfied: termcolor>=1.1.0 in /usr/local/lib/python3.6/dist-packages (from tensorflow==1.12.0->tensorflowjs) (1.1.0)\n",
            "Requirement already satisfied: absl-py>=0.1.6 in /usr/local/lib/python3.6/dist-packages (from tensorflow==1.12.0->tensorflowjs) (0.6.1)\n",
            "Requirement already satisfied: tensorboard<1.13.0,>=1.12.0 in /usr/local/lib/python3.6/dist-packages (from tensorflow==1.12.0->tensorflowjs) (1.12.1)\n",
            "Requirement already satisfied: wheel>=0.26 in /usr/local/lib/python3.6/dist-packages (from tensorflow==1.12.0->tensorflowjs) (0.32.3)\n",
            "Requirement already satisfied: keras-applications>=1.0.6 in /usr/local/lib/python3.6/dist-packages (from tensorflow==1.12.0->tensorflowjs) (1.0.6)\n",
            "Requirement already satisfied: gast>=0.2.0 in /usr/local/lib/python3.6/dist-packages (from tensorflow==1.12.0->tensorflowjs) (0.2.0)\n",
            "Requirement already satisfied: astor>=0.6.0 in /usr/local/lib/python3.6/dist-packages (from tensorflow==1.12.0->tensorflowjs) (0.7.1)\n",
            "Requirement already satisfied: pyyaml in /usr/local/lib/python3.6/dist-packages (from keras==2.2.2->tensorflowjs) (3.13)\n",
            "Requirement already satisfied: scipy>=0.14 in /usr/local/lib/python3.6/dist-packages (from keras==2.2.2->tensorflowjs) (1.1.0)\n",
            "Requirement already satisfied: setuptools in /usr/local/lib/python3.6/dist-packages (from protobuf>=3.4.0->tensorflow-hub==0.1.1->tensorflowjs) (40.6.2)\n",
            "Requirement already satisfied: werkzeug>=0.11.10 in /usr/local/lib/python3.6/dist-packages (from tensorboard<1.13.0,>=1.12.0->tensorflow==1.12.0->tensorflowjs) (0.14.1)\n",
            "Requirement already satisfied: markdown>=2.6.8 in /usr/local/lib/python3.6/dist-packages (from tensorboard<1.13.0,>=1.12.0->tensorflow==1.12.0->tensorflowjs) (3.0.1)\n",
            "\u001b[31mkeras 2.2.2 has requirement keras-applications==1.0.4, but you'll have keras-applications 1.0.6 which is incompatible.\u001b[0m\n",
            "\u001b[31mkeras 2.2.2 has requirement keras-preprocessing==1.0.2, but you'll have keras-preprocessing 1.0.5 which is incompatible.\u001b[0m\n",
            "\u001b[31mfeaturetools 0.4.1 has requirement pandas>=0.23.0, but you'll have pandas 0.22.0 which is incompatible.\u001b[0m\n",
            "\u001b[31mcufflinks 0.14.6 has requirement plotly>=3.0.0, but you'll have plotly 1.12.12 which is incompatible.\u001b[0m\n",
            "Installing collected packages: numpy, tensorflow-hub, keras, tensorflowjs\n",
            "  Found existing installation: numpy 1.14.6\n",
            "    Uninstalling numpy-1.14.6:\n",
            "      Successfully uninstalled numpy-1.14.6\n",
            "  Found existing installation: tensorflow-hub 0.2.0\n",
            "    Uninstalling tensorflow-hub-0.2.0:\n",
            "      Successfully uninstalled tensorflow-hub-0.2.0\n",
            "  Found existing installation: Keras 2.2.4\n",
            "    Uninstalling Keras-2.2.4:\n",
            "      Successfully uninstalled Keras-2.2.4\n",
            "Successfully installed keras-2.2.2 numpy-1.15.1 tensorflow-hub-0.1.1 tensorflowjs-0.6.7\n"
          ],
          "name": "stdout"
        }
      ]
    },
    {
      "metadata": {
        "id": "jzPSse6U5Wlo",
        "colab_type": "code",
        "colab": {}
      },
      "cell_type": "code",
      "source": [
        "import tensorflowjs as tfjs\n",
        "\n",
        "# Modify as needed.\n",
        "TFJS_MODEL_PATH = \"/tmp/irismodel-tfjs\"\n",
        "\n",
        "# Save the model in TF's Layer format.\n",
        "tfjs.converters.save_keras_model(model, TFJS_MODEL_PATH)"
      ],
      "execution_count": 0,
      "outputs": []
    },
    {
      "metadata": {
        "id": "_k851qki29Ge",
        "colab_type": "code",
        "outputId": "195ab29f-fc6a-48f0-c026-6a7c9ba14b21",
        "colab": {
          "base_uri": "https://localhost:8080/",
          "height": 102
        }
      },
      "cell_type": "code",
      "source": [
        "!ls -la /tmp/irismodel-tfjs"
      ],
      "execution_count": 0,
      "outputs": [
        {
          "output_type": "stream",
          "text": [
            "total 32\n",
            "drwxr-xr-x 2 root root  4096 Dec 18 15:14 .\n",
            "drwxrwxrwt 1 root root  4096 Dec 18 15:14 ..\n",
            "-rw-r--r-- 1 root root 18700 Dec 18 15:14 group1-shard1of1\n",
            "-rw-r--r-- 1 root root  2355 Dec 18 15:14 model.json\n"
          ],
          "name": "stdout"
        }
      ]
    },
    {
      "metadata": {
        "id": "dknF9PhM5Wlt",
        "colab_type": "text"
      },
      "cell_type": "markdown",
      "source": [
        "In production, there would be a step to publish this model to a cloud storage provider, like Amazon S3, or Google Cloud Storage. But as this is just a demo, I'm skipping this step.\n",
        "\n",
        "\n",
        "## Part 2: Online Model Loading and Predictions\n",
        "\n",
        "Now, we'll load the pre-trained model into Javascript and make predictions.\n",
        "\n",
        "I'm repeating the validation step from before, only this time the prediction code is in Javascript and we load the model from a URL using TensorFlow.js.\n",
        "\n",
        "A few notes on the below code cell:\n",
        "\n",
        "* Unlike in vanilla Jupyte, Google Colaboratory doesn't support `require.js` in the the `%%javascript` \"cell magic\". Therefore we need to fetch it first. \n",
        "\n",
        "* Another difference is in how to add HTML to the cell output.\n",
        "\n",
        "* Obviously for a real application, we'd separate out the code bits into a module and use Yarn or NPM to load the TensorFlow.js library.\n",
        "\n",
        "* The computation results are just the raw class probabilities. The highest probability corresponds to the predicted class."
      ]
    },
    {
      "metadata": {
        "id": "69WE8Et860Qa",
        "colab_type": "code",
        "outputId": "33a76cab-d88a-4b75-8083-913781b0966b",
        "colab": {
          "base_uri": "https://localhost:8080/",
          "height": 85
        }
      },
      "cell_type": "code",
      "source": [
        "def load_and_configure_js_components():\n",
        "  \"\"\"Helper function needed in Google Colaboratory.\"\"\"\n",
        "  import IPython\n",
        "  display(IPython.core.display.HTML('''\n",
        "        <!-- Load require.js from a CDN. -->\n",
        "        <script src=\"https://cdnjs.cloudflare.com/ajax/libs/require.js/2.3.6/require.min.js\"></script>\n",
        "        <script>\n",
        "          requirejs.config({\n",
        "            paths: { \n",
        "              'tf': ['//cdn.jsdelivr.net/npm/@tensorflow/tfjs@0.14.1/dist/tf.min'], \n",
        "            },\n",
        "          });\n",
        "          \n",
        "          // Load and use TensorFlow.js.\n",
        "          require(['tf'], function(tf) {\n",
        "              async function load_and_predict() {\n",
        "                  // This is where we are loading the model from. \n",
        "                  // Could also be Google cloud storage or an Amazon S3 bucket.\n",
        "                  const MODEL_URL = \"https://raw.githubusercontent.com/bwv988/keras-tensorflowjs-tests/master/model/model.json\";\n",
        "\n",
        "                  console.log(\"Loading pre-trained model...\")\n",
        "                  const model = await tf.loadModel(MODEL_URL);\n",
        "                  console.log(\"Model successfully loaded.\")\n",
        "\n",
        "                  // This the first training example which is of class 1.\n",
        "                  const class1_test = tf.tensor([\n",
        "                    [0.18982966, 0.80065426, 0.42156442, 0.52764485]\n",
        "                  ]);\n",
        "\n",
        "                  // This is another training example of class 0.\n",
        "                  const class0_test = tf.tensor([\n",
        "                    [-1.02184904,  0.33784833, -1.45500381, -1.31297673]\n",
        "                  ]);\n",
        "\n",
        "                  // Contruct the output.\n",
        "                  // FIXME: This is a bit crude ;)\n",
        "                  const p1 = model.predict(class1_test);\n",
        "                  const p2 = model.predict(class0_test);\n",
        "\n",
        "                  let res_str = `\n",
        "                  <strong>Predictions:</strong>\n",
        "                  <br/>\n",
        "                  <br/>\n",
        "                  Predicted class probabilities for class 1 training example:\n",
        "                  `;\n",
        "\n",
        "                  res_str += p1;\n",
        "\n",
        "                  res_str += `\n",
        "                  <br/>\n",
        "                  Predicted class probabilities for class 0 training example:\n",
        "                  `\n",
        "                  res_str += p2;\n",
        "                  \n",
        "                  // Append output to div.\n",
        "                  div = document.getElementById(\"my_output\");\n",
        "                  div.innerHTML = res_str;                      \n",
        "              }\n",
        "\n",
        "              load_and_predict();\n",
        "              return {}\n",
        "              });\n",
        "        </script>\n",
        "        \n",
        "        <!-- Here is where we will apend the output from Javascript.-->\n",
        "        <div id=\"my_output\"/>\n",
        "\n",
        "    '''))\n",
        "  \n",
        "load_and_configure_js_components()"
      ],
      "execution_count": 0,
      "outputs": [
        {
          "output_type": "display_data",
          "data": {
            "text/html": [
              "\n",
              "        <!-- Load require.js from a CDN. -->\n",
              "        <script src=\"https://cdnjs.cloudflare.com/ajax/libs/require.js/2.3.6/require.min.js\"></script>\n",
              "        <script>\n",
              "          requirejs.config({\n",
              "            paths: { \n",
              "              'tf': ['//cdn.jsdelivr.net/npm/@tensorflow/tfjs@0.14.1/dist/tf.min'], \n",
              "            },\n",
              "          });\n",
              "          \n",
              "          // Load and use TensorFlow.js.\n",
              "          require(['tf'], function(tf) {\n",
              "              async function load_and_predict() {\n",
              "                  // This is where we are loading the model from. \n",
              "                  // Could also be Google cloud storage or an Amazon S3 bucket.\n",
              "                  const MODEL_URL = \"https://raw.githubusercontent.com/bwv988/keras-tensorflowjs-tests/master/model/model.json\";\n",
              "\n",
              "                  console.log(\"Loading pre-trained model...\")\n",
              "                  const model = await tf.loadModel(MODEL_URL);\n",
              "                  console.log(\"Model successfully loaded.\")\n",
              "\n",
              "                  // This the first training example which is of class 1.\n",
              "                  const class1_test = tf.tensor([\n",
              "                    [0.18982966, 0.80065426, 0.42156442, 0.52764485]\n",
              "                  ]);\n",
              "\n",
              "                  // This is another training example of class 0.\n",
              "                  const class0_test = tf.tensor([\n",
              "                    [-1.02184904,  0.33784833, -1.45500381, -1.31297673]\n",
              "                  ]);\n",
              "\n",
              "                  // Contruct the output.\n",
              "                  // FIXME: This is a bit crude ;)\n",
              "                  const p1 = model.predict(class1_test);\n",
              "                  const p2 = model.predict(class0_test);\n",
              "\n",
              "                  let res_str = `\n",
              "                  <strong>Predictions:</strong>\n",
              "                  <br/>\n",
              "                  <br/>\n",
              "                  Predicted class probabilities for class 1 training example:\n",
              "                  `;\n",
              "\n",
              "                  res_str += p1;\n",
              "\n",
              "                  res_str += `\n",
              "                  <br/>\n",
              "                  Predicted class probabilities for class 0 training example:\n",
              "                  `\n",
              "                  res_str += p2;\n",
              "                  \n",
              "                  // Append output to div.\n",
              "                  div = document.getElementById(\"my_output\");\n",
              "                  div.innerHTML = res_str;                      \n",
              "              }\n",
              "\n",
              "              load_and_predict();\n",
              "              return {}\n",
              "              });\n",
              "        </script>\n",
              "        \n",
              "        <!-- Here is where we will apend the output from Javascript.-->\n",
              "        <div id=\"my_output\"/>\n",
              "\n",
              "    "
            ],
            "text/plain": [
              "<IPython.core.display.HTML object>"
            ]
          },
          "metadata": {
            "tags": []
          }
        }
      ]
    },
    {
      "metadata": {
        "id": "oJYQ-ZjU5Wlu",
        "colab_type": "code",
        "outputId": "311d7741-c25e-43bd-f8f1-f4eb5563b4d5",
        "colab": {
          "base_uri": "https://localhost:8080/",
          "height": 17
        }
      },
      "cell_type": "code",
      "source": [
        "%%javascript\n",
        "require(['tf'], function(tf) {\n",
        "    async function load_and_predict() {\n",
        "        // This is where we are loading the model from. \n",
        "        // Could also be Google cloud storage or an Amazon S3 bucket.\n",
        "        const MODEL_URL = \"https://raw.githubusercontent.com/bwv988/keras-tensorflowjs-tests/master/model/model.json\";\n",
        "  \n",
        "        console.log(\"Loading pre-trained model...\")\n",
        "        const model = await tf.loadModel(MODEL_URL);\n",
        "        console.log(\"Model successfully loaded.\")\n",
        "        \n",
        "        // This the first training example which is of class 1.\n",
        "        const class1_test = tf.tensor([\n",
        "          [0.18982966, 0.80065426, 0.42156442, 0.52764485]\n",
        "        ]);\n",
        "        \n",
        "        // This is another training example of class 0.\n",
        "        const class0_test = tf.tensor([\n",
        "          [-1.02184904,  0.33784833, -1.45500381, -1.31297673]\n",
        "        ]);\n",
        "        \n",
        "        // Contruct the output.\n",
        "        // FIXME: This is a bit crude ;)\n",
        "        const p1 = model.predict(class1_test);\n",
        "        const p2 = model.predict(class0_test);\n",
        "        \n",
        "        let res_str = `\n",
        "        <strong>Predictions:</strong>\n",
        "        <br/>\n",
        "        <br/>\n",
        "        Predicted class probabilities for class 1 training example:\n",
        "        `;\n",
        "        \n",
        "        res_str += p1;\n",
        "        \n",
        "        res_str += `\n",
        "        <br/>\n",
        "        Predicted class probabilities for class 0 training example:\n",
        "        `\n",
        "        res_str += p2;\n",
        "        \n",
        "        element.html(res_str);\n",
        "        \n",
        "}\n",
        "\n",
        "load_and_predict();\n",
        "    return {}\n",
        "});"
      ],
      "execution_count": 0,
      "outputs": [
        {
          "output_type": "display_data",
          "data": {
            "application/javascript": [
              "require(['tf'], function(tf) {\n",
              "    async function load_and_predict() {\n",
              "        // This is where we are loading the model from. \n",
              "        // Could also be Google cloud storage or an Amazon S3 bucket.\n",
              "        const MODEL_URL = \"https://raw.githubusercontent.com/bwv988/keras-tensorflowjs-tests/master/model/model.json\";\n",
              "  \n",
              "        console.log(\"Loading pre-trained model...\")\n",
              "        const model = await tf.loadModel(MODEL_URL);\n",
              "        console.log(\"Model successfully loaded.\")\n",
              "        \n",
              "        // This the first training example which is of class 1.\n",
              "        const class1_test = tf.tensor([\n",
              "          [0.18982966, 0.80065426, 0.42156442, 0.52764485]\n",
              "        ]);\n",
              "        \n",
              "        // This is another training example of class 0.\n",
              "        const class0_test = tf.tensor([\n",
              "          [-1.02184904,  0.33784833, -1.45500381, -1.31297673]\n",
              "        ]);\n",
              "        \n",
              "        // Contruct the output.\n",
              "        // FIXME: This is a bit crude ;)\n",
              "        const p1 = model.predict(class1_test);\n",
              "        const p2 = model.predict(class0_test);\n",
              "        \n",
              "        let res_str = `\n",
              "        <strong>Predictions:</strong>\n",
              "        <br/>\n",
              "        <br/>\n",
              "        Predicted class probabilities for class 1 training example:\n",
              "        `;\n",
              "        \n",
              "        res_str += p1;\n",
              "        \n",
              "        res_str += `\n",
              "        <br/>\n",
              "        Predicted class probabilities for class 0 training example:\n",
              "        `\n",
              "        res_str += p2;\n",
              "        \n",
              "        element.html(res_str);\n",
              "        \n",
              "}\n",
              "\n",
              "load_and_predict();\n",
              "    return {}\n",
              "});"
            ],
            "text/plain": [
              "<IPython.core.display.Javascript object>"
            ]
          },
          "metadata": {
            "tags": []
          }
        }
      ]
    },
    {
      "metadata": {
        "id": "fHZVuPm9GbDX",
        "colab_type": "text"
      },
      "cell_type": "markdown",
      "source": [
        ""
      ]
    },
    {
      "metadata": {
        "id": "n0N-NFGQ5Wlz",
        "colab_type": "text"
      },
      "cell_type": "markdown",
      "source": [
        "## Summary\n",
        "\n",
        "As we can see, it's fairly simple to load pre-trained models in TensorFlow.js. This also shows that Keras, Tensorflow, Python and Javascript play a long quiet nicely and enable ML developers to seamlessly connect different execution domains.\n",
        "\n",
        "## References and Links\n",
        "\n",
        "* TensorFlow.js homepage: https://js.tensorflow.org/\n",
        "* Introduction post on Medium: https://medium.com/tensorflow/introducing-tensorflow-js-machine-learning-in-javascript-bf3eab376db\n",
        "* Jupyter embracing modern web standards: https://jupyter-notebook.readthedocs.io/en/stable/examples/Notebook/JavaScript%20Notebook%20Extensions.html"
      ]
    }
  ]
}