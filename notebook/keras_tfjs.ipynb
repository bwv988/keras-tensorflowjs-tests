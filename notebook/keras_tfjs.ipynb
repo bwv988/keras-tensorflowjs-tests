{
 "cells": [
  {
   "cell_type": "markdown",
   "metadata": {},
   "source": [
    "# Keras and TensorFlow.js Interoperability\n",
    "\n",
    "\n",
    "## Introduction\n",
    "With the release of TensorFlow.js earlier in 2018 (https://js.tensorflow.org/), it is now possible to train and run Machine Learning models directly in a web browser and NodeJS-based applications. TensorFlow.js implements much of TensorFlow's proven API and thus opens up interesting possibilities for enriching web applications with Machine Learning capabilities.\n",
    "\n",
    "## Demo: Train offline, predict online\n",
    "For many real-world ML problems which require very deep, recurrent, or convoluted neural networks, training of such models, while feasible, wouldn't be very practical to do in a browser. This is especially true for mobile applications.\n",
    "\n",
    "A far more common use case, however, would be to use a pre-trained model to predictions. In the example of a neural network, training the model entails establishing the weights, which is typically orders of magnitudes more expensive in terms of CPU compared to just applying the trained weights to make predictions, based on new data.\n",
    "\n",
    "## Part 1: Offline training\n",
    "\n",
    "For this toy example, we'll use the classical Iris flower dataset. The goal here is to predict the type of flower based on four different measurements in cm taken from 150 flowers. The dataset is build into the `sklearn` package.\n",
    "\n",
    "### Data loading and preparation"
   ]
  },
  {
   "cell_type": "code",
   "execution_count": 4,
   "metadata": {},
   "outputs": [],
   "source": [
    "from sklearn import datasets\n",
    "from sklearn import preprocessing\n",
    "from keras.utils import to_categorical\n",
    "\n",
    "\n",
    "# Load and transform the data.\n",
    "iris = datasets.load_iris()\n",
    "iris_target_onehot = to_categorical(iris.target)\n",
    "X = preprocessing.scale(iris.data)\n",
    "Y = iris_target_onehot"
   ]
  },
  {
   "cell_type": "markdown",
   "metadata": {},
   "source": [
    "### Defining the model\n",
    "\n",
    "For this multi-class classification problem, we'll be setting up a simple feed-forward neural network:"
   ]
  },
  {
   "cell_type": "code",
   "execution_count": 6,
   "metadata": {},
   "outputs": [],
   "source": [
    "def build_iris_model(num_hidden_layers = 1, \n",
    "                     x_dim = 4, \n",
    "                     num_neurons = 64, \n",
    "                     my_optimizer = \"adam\"):\n",
    "    \"\"\"\n",
    "    This function returns a feed-forward neural network, as\n",
    "    defined in the parameters.\n",
    "    \"\"\"\n",
    "    model = Sequential()\n",
    "    model.add(Dense(num_neurons, \n",
    "                 input_dim = x_dim, \n",
    "                 activation = \"relu\"))\n",
    "    \n",
    "    # Add specified number of hidden layers.\n",
    "    for i in range(num_hidden_layers):        \n",
    "        model.add(Dense(num_neurons, \n",
    "                        activation = \"relu\"))\n",
    "    \n",
    "    model.add(Dense(3, activation = \"softmax\"))\n",
    "    \n",
    "    # Compile the model according to the selected optimizer function.\n",
    "    # Using categorical cross entropy because we are classifying.\n",
    "    model.compile(loss = \"categorical_crossentropy\", \n",
    "               optimizer = my_optimizer, \n",
    "               metrics = [\"accuracy\"])\n",
    "    return model"
   ]
  },
  {
   "cell_type": "markdown",
   "metadata": {},
   "source": [
    "### Training the model\n",
    "\n",
    "Next, we'll fit the model to the training data (60% of the data).\n",
    "\n",
    "**Note**: The data splitting isn't really necessary in this example as I'm not doing any validation after.\n"
   ]
  },
  {
   "cell_type": "code",
   "execution_count": 10,
   "metadata": {},
   "outputs": [
    {
     "data": {
      "text/plain": [
       "<keras.callbacks.History at 0x1eaeec08b38>"
      ]
     },
     "execution_count": 10,
     "metadata": {},
     "output_type": "execute_result"
    }
   ],
   "source": [
    "from sklearn.model_selection import train_test_split\n",
    "from keras.models import Sequential\n",
    "from keras.layers import Dense\n",
    "\n",
    "X_train, X_test, Y_train, Y_test = train_test_split(X, \n",
    "                                                    Y, \n",
    "                                                    test_size = 0.4, \n",
    "                                                    random_state = 0)\n",
    "\n",
    "# Train the model.\n",
    "model = build_iris_model()\n",
    "model.fit(X_train, \n",
    "          Y_train, \n",
    "          validation_split = 0.25, \n",
    "          epochs = 150, \n",
    "          batch_size = 10, \n",
    "          verbose = 0)"
   ]
  },
  {
   "cell_type": "markdown",
   "metadata": {},
   "source": [
    "### Testing the model\n",
    "\n",
    "We can now convince ourselves that the model predicts well on the training data, as expected:\n"
   ]
  },
  {
   "cell_type": "code",
   "execution_count": 16,
   "metadata": {},
   "outputs": [
    {
     "name": "stdout",
     "output_type": "stream",
     "text": [
      "The first sample should yield class 1: [1]\n",
      "The second sample should yield class 0: [0]\n"
     ]
    }
   ],
   "source": [
    "import numpy as np\n",
    "\n",
    "print(\"The first sample should yield class 1: \" + str(model.predict_classes(np.reshape(X_train[0, :], (1, 4)))))\n",
    "print(\"The second sample should yield class 0: \" + str(model.predict_classes(np.reshape(X_train[50, :], (1, 4)))))"
   ]
  },
  {
   "cell_type": "markdown",
   "metadata": {},
   "source": [
    "### Saving the model\n",
    "\n",
    "So far so good, nothing really new. Now we need to save the model.\n",
    "\n",
    "Out of the box, Keras supports the HDF5 model format. However, for TensorFlow.js we need to convert into TensorFlow's Layers format. This can be achieved with a utility function within the `tensorflowjs` package.\n",
    "\n",
    "**Note** For the next line to work, the `tensorflowjs` package needs to be installed:\n",
    "\n",
    "* Anaconda: `pip install tensorflowjs`\n",
    "* Kaggle: Add a custom package.\n"
   ]
  },
  {
   "cell_type": "code",
   "execution_count": 20,
   "metadata": {},
   "outputs": [],
   "source": [
    "import tensorflowjs as tfjs\n",
    "\n",
    "TFJS_MODEL_PATH = \"C:/Temp/irismodel-tfjs\"\n",
    "tfjs.converters.save_keras_model(model, TFJS_MODEL_PATH)"
   ]
  },
  {
   "cell_type": "markdown",
   "metadata": {},
   "source": [
    "## Part 2: Using the model online"
   ]
  }
 ],
 "metadata": {
  "kernelspec": {
   "display_name": "Python 3",
   "language": "python",
   "name": "python3"
  },
  "language_info": {
   "codemirror_mode": {
    "name": "ipython",
    "version": 3
   },
   "file_extension": ".py",
   "mimetype": "text/x-python",
   "name": "python",
   "nbconvert_exporter": "python",
   "pygments_lexer": "ipython3",
   "version": "3.6.6"
  }
 },
 "nbformat": 4,
 "nbformat_minor": 2
}
